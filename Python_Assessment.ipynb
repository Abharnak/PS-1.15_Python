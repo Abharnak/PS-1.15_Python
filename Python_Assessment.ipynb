{
  "nbformat": 4,
  "nbformat_minor": 0,
  "metadata": {
    "colab": {
      "provenance": [],
      "include_colab_link": true
    },
    "kernelspec": {
      "name": "python3",
      "display_name": "Python 3"
    },
    "language_info": {
      "name": "python"
    }
  },
  "cells": [
    {
      "cell_type": "markdown",
      "metadata": {
        "id": "view-in-github",
        "colab_type": "text"
      },
      "source": [
        "<a href=\"https://colab.research.google.com/github/Abharnak/PS-1.15_Python/blob/main/Python_Assessment.ipynb\" target=\"_parent\"><img src=\"https://colab.research.google.com/assets/colab-badge.svg\" alt=\"Open In Colab\"/></a>"
      ]
    },
    {
      "cell_type": "markdown",
      "source": [
        "Question:1\n"
      ],
      "metadata": {
        "id": "jYPaKYVYk-oI"
      }
    },
    {
      "cell_type": "code",
      "source": [
        "def multiples(n):\n",
        "    if n < 0:\n",
        "        return 0\n",
        "    return sum(x for x in range(n) if x % 3 == 0 or x % 5 == 0)\n",
        "\n",
        "print(multiples(20))"
      ],
      "metadata": {
        "colab": {
          "base_uri": "https://localhost:8080/"
        },
        "id": "aw-UjgjIoIvg",
        "outputId": "298becb6-efed-40ca-b07e-93ac8ab51e29"
      },
      "execution_count": 10,
      "outputs": [
        {
          "output_type": "stream",
          "name": "stdout",
          "text": [
            "78\n"
          ]
        }
      ]
    },
    {
      "cell_type": "markdown",
      "source": [
        "Question:2"
      ],
      "metadata": {
        "id": "imgnpnHQoVK7"
      }
    },
    {
      "cell_type": "code",
      "source": [
        "def to_camel_case(text):\n",
        "    words = text.replace(\"-\", \"_\").split(\"_\")\n",
        "    return words[0] + \"\".join(word.capitalize() for word in words[1:])\n",
        "\n",
        "print(to_camel_case(\"Python_java\"))\n",
        "print(to_camel_case(\"Hello_world\"))"
      ],
      "metadata": {
        "colab": {
          "base_uri": "https://localhost:8080/"
        },
        "id": "PjdD96WeoaqN",
        "outputId": "01a82f3a-0ae7-413f-b25d-cf61f9fc5179"
      },
      "execution_count": 11,
      "outputs": [
        {
          "output_type": "stream",
          "name": "stdout",
          "text": [
            "PythonJava\n",
            "HelloWorld\n"
          ]
        }
      ]
    },
    {
      "cell_type": "markdown",
      "source": [
        "Question:3"
      ],
      "metadata": {
        "id": "fLMgq0AMosec"
      }
    },
    {
      "cell_type": "code",
      "source": [
        "def remove_vowels(s):\n",
        "    return \"\".join(c for c in s if c.lower() not in \"aeiou\")\n",
        "\n",
        "print(remove_vowels(\"Hello World!\"))"
      ],
      "metadata": {
        "colab": {
          "base_uri": "https://localhost:8080/"
        },
        "id": "FPgt4OikouQ3",
        "outputId": "d249acb6-6e6f-48e2-c0f5-22f4f8bd1890"
      },
      "execution_count": 3,
      "outputs": [
        {
          "output_type": "stream",
          "name": "stdout",
          "text": [
            "Hll Wrld!\n"
          ]
        }
      ]
    },
    {
      "cell_type": "markdown",
      "source": [
        "Question:4"
      ],
      "metadata": {
        "id": "AjpHsEcmo1Zz"
      }
    },
    {
      "cell_type": "code",
      "source": [
        "def order(sentence):\n",
        "    return \" \".join(sorted(sentence.split(), key=lambda w: sorted(w)))\n",
        "\n",
        "print(order(\"sentence4 is2 This1 a3\"))\n",
        "print(order(\"2the 3people 1By\"))"
      ],
      "metadata": {
        "colab": {
          "base_uri": "https://localhost:8080/"
        },
        "id": "HQ1Uwk2co4YG",
        "outputId": "6b6b1aba-19b4-4797-df70-580b091d7773"
      },
      "execution_count": 5,
      "outputs": [
        {
          "output_type": "stream",
          "name": "stdout",
          "text": [
            "This1 is2 a3 sentence4\n",
            "1By 2the 3people\n"
          ]
        }
      ]
    },
    {
      "cell_type": "markdown",
      "source": [
        "Question:5"
      ],
      "metadata": {
        "id": "vq3ZgnEKpCd4"
      }
    },
    {
      "cell_type": "code",
      "source": [
        "def sort_odd_numbers(arr):\n",
        "    odds = sorted([x for x in arr if x % 2 != 0])\n",
        "    index = 0\n",
        "    for i in range(len(arr)):\n",
        "        if arr[i] % 2 != 0:\n",
        "            arr[i] = odds[index]\n",
        "            index += 1\n",
        "    return arr\n",
        "\n",
        "print(sort_odd_numbers([9, 1]))\n",
        "print(sort_odd_numbers([2, 9, 4, 0, 2]))\n",
        "print(sort_odd_numbers([7, 4, 2, 8, 5, 4, 2, 3, 1, 0]))\n"
      ],
      "metadata": {
        "colab": {
          "base_uri": "https://localhost:8080/"
        },
        "id": "3x3jX-kMpESu",
        "outputId": "d8508f88-b6d6-48f1-e4e3-1a5850946ce7"
      },
      "execution_count": 9,
      "outputs": [
        {
          "output_type": "stream",
          "name": "stdout",
          "text": [
            "[1, 9]\n",
            "[2, 9, 4, 0, 2]\n",
            "[1, 4, 2, 8, 3, 4, 2, 5, 7, 0]\n"
          ]
        }
      ]
    }
  ]
}